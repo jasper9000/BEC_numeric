{
 "cells": [
  {
   "cell_type": "code",
   "execution_count": 2,
   "metadata": {},
   "outputs": [
    {
     "name": "stdout",
     "output_type": "stream",
     "text": [
      "Using matplotlib backend: Qt5Agg\n"
     ]
    }
   ],
   "source": [
    "%matplotlib"
   ]
  },
  {
   "cell_type": "code",
   "execution_count": 3,
   "metadata": {},
   "outputs": [],
   "source": [
    "import numpy as np\n",
    "import matplotlib.pyplot as plt\n",
    "import math\n",
    "import cmath\n",
    "import numpy.fft as fft\n",
    "import ipywidgets as widgets\n",
    "from IPython.display import display"
   ]
  },
  {
   "cell_type": "markdown",
   "metadata": {},
   "source": [
    "1: Define a Potential, for example infinitely deep well <br>\n",
    "2: Find/Select (?) a starting wave function $\\Psi_0 = \\Psi(x, t=0)$ <br>\n",
    "3: Time-evolution in first order: \n"
   ]
  },
  {
   "cell_type": "markdown",
   "metadata": {},
   "source": [
    "$\\Psi(x, t+\\Delta t) = e^{-\\frac{i \\Delta t}{2 \\hbar} V(x)} \\cdot \\mathscr{F}^{-1}\\left[ e^{-\\frac{i \\hbar \\Delta t p^2}{2 m}} \\cdot \\mathscr{F}\\left[ e^{-\\frac{i \\Delta t}{2 \\hbar} V(x)} \\cdot \\Psi(x, t) \\right] \\right]$"
   ]
  },
  {
   "cell_type": "code",
   "execution_count": 5,
   "metadata": {},
   "outputs": [],
   "source": [
    "# constants\n",
    "h_bar = 1.054e-34       # hbar obviously\n",
    "amu = 1.660538921e-27   # atomic mass unit\n",
    "m = 87*amu              # atomic mass (of rubidium)\n",
    "a_s = 5.8e-9            # scattering length\n",
    "N = 1000                # number of atoms\n",
    "wr = 100 * 2 * np.pi    # trapping frequency (TODO: read about this)\n",
    "wx = 40 * 2 * np.pi     # trapping frequency (TODO: read about this)"
   ]
  },
  {
   "cell_type": "code",
   "execution_count": 6,
   "metadata": {},
   "outputs": [],
   "source": [
    "M = 200 \n",
    "Nx = 2 * M + 1               # length of x array\n",
    "dx = 2e-7                    # coordinate step\n",
    "x = np.arange(-M, M+1, 1)*dx # coordinate range (array)\n",
    "dk = np.pi/(M*dx)            # k space step\n",
    "k = np.arange(-M, M+1, 1)*dk # k space range (array)\n",
    "dt = 10e-8                   # time step\n",
    "Nt = 300000                  # number of time steps"
   ]
  },
  {
   "cell_type": "code",
   "execution_count": 11,
   "metadata": {},
   "outputs": [],
   "source": [
    "lr = np.sqrt(h_bar/(m*wr))     # harmonic oscillator length\n",
    "lx = np.sqrt(h_bar/(m+wx))     # harmonic oscillator length\n",
    "g1d = 2*h_bar**2*a_s/(m*lr**2) # 1D interaction coefficient\n",
    "\n",
    "V = 0.5*m*wx**2*np.power(x, 2)/h_bar                                      # trapping potential (array)\n",
    "psi_0 = np.sqrt(N/lx)*(1/np.pi)**(1/4)*np.exp(-np.power(x, 2)/(2*lx**2))  # starting wave function Psi_0 (array)"
   ]
  },
  {
   "cell_type": "code",
   "execution_count": 12,
   "metadata": {},
   "outputs": [],
   "source": [
    "plt.plot(psi_0)\n",
    "plt.show()"
   ]
  },
  {
   "cell_type": "code",
   "execution_count": 14,
   "metadata": {},
   "outputs": [],
   "source": [
    "Nframe = 500  # number of frames to capture\n",
    "t = 0         # t is zero at the start\n",
    "\n",
    "#psi_0, mu = get_ground_state(psi_0, dt, g1d, x, k, m, V)\n",
    "\n",
    "psi = psi_0 # since get_ground_state doesnt work yet we are looking at our non-gound-state wave function\n",
    "\n",
    "spacetime = [] # no idea why this is called space time but it saves the frames\n",
    "\n",
    "for itime in range(1, Nt+1):                                            # iterate over the time\n",
    "    psi=psi*np.exp(-0.5*1j*dt*(V+(g1d/h_bar)*np.power(np.abs(psi), 2))) # all these steps basically implement the individual multiplications in the formula given above\n",
    "    psi_k=fft.fftshift(fft.fft(psi))/Nx                                 # doing the fft and doning a fft-shift\n",
    "    psi_k=psi_k*np.exp(-0.5*1j*dt*(h_bar/m)*np.power(k, 2))             # second multiplication\n",
    "    psi=fft.ifft(fft.ifftshift(psi_k))*Nx                               # inverse fft-shift and fft\n",
    "    psi=psi*np.exp(-0.5*1j*dt*(V+(g1d/h_bar)*np.power(np.abs(psi), 2))) # third multiplication\n",
    "    if itime%(Nt/Nframe) == 0:\n",
    "        spacetime.append(np.abs(np.power(psi, 2)))                      # condition to check wether a frame has to be saved or not\n",
    "    t += dt                                                             # time step"
   ]
  },
  {
   "cell_type": "code",
   "execution_count": 17,
   "metadata": {},
   "outputs": [],
   "source": [
    "plt.ion()\n",
    "graph = plt.plot(np.abs(np.power(psi_0, 2)))[0]\n",
    "\n",
    "for a in spacetime:\n",
    "    graph.set_ydata(a)\n",
    "    plt.xlim(150, 250)\n",
    "    plt.draw()\n",
    "    plt.pause(0.01)"
   ]
  },
  {
   "cell_type": "markdown",
   "metadata": {},
   "source": [
    "#### Ende der Physik\n",
    "Alles ab hier funktioniert noch nicht so richtig <br>\n",
    "Die Funktion get_ground_state soll mittels imaginary time method den Grundzutand finden"
   ]
  },
  {
   "cell_type": "code",
   "execution_count": null,
   "metadata": {},
   "outputs": [],
   "source": [
    "def get_ground_state(psi, dt, g1d, x, k, m, V):\n",
    "    h_bar = 1.054e-34\n",
    "    dx = x[1]-x[0]\n",
    "    dk = 2*np.pi/(x[-1]-x[0])\n",
    "    N = dx * np.power( psi / np.linalg.norm(psi, 2), 2)\n",
    "    Nx = len(x)\n",
    "    psi_mid_old = psi[Nx//2]\n",
    "    j = 1\n",
    "    mu = 1\n",
    "    mu_old = 1\n",
    "    mu_error = 1\n",
    "    \n",
    "    while mu_error > 1e-12:\n",
    "        print(\"== next iteration ==\\n\")\n",
    "        #print(\"Psi == 0 at %d positions\" % len(np.where(psi == 0)[0]))\n",
    "        psi=psi*np.exp(-0.5*dt*(V+(g1d/h_bar)*np.power(np.abs(psi), 2)))\n",
    "        #print(\"Psi == 0 at %d positions\" % len(np.where(psi == 0)[0]))\n",
    "        #print(\"Psi NaN\", np.where(np.isnan(psi)))\n",
    "        psi_k=fft.fftshift(fft.fft(psi))/Nx\n",
    "        #print(\"Psi_k NaN\", np.where(np.isnan(psi_k)))\n",
    "        #print(\"Psi == 0 at %d positions\" % len(np.where(psi == 0)[0]))\n",
    "        psi_k=psi_k*np.exp(-0.5*dt*(h_bar/m)*np.power(k, 2))\n",
    "        #print(\"Psi_k == 0\", np.where(psi_k == 0))\n",
    "        psi=fft.ifft(fft.ifftshift(psi_k))*Nx\n",
    "        #print(\"Psi == 0 at %d positions\" % len(np.where(psi == 0)[0]))\n",
    "        psi=psi*np.exp(-0.5*dt*(V+(g1d/h_bar)*np.power(np.abs(psi), 2))) # first order\n",
    "        #print(\"Psi == 0 at %d positions\" % len(np.where(psi == 0)[0]))\n",
    "        psi_mid = psi[Nx//2]\n",
    "\n",
    "        #print(\"psi_old = {}, psi_new = {}\".format(psi_mid_old, psi_mid))\n",
    "        mu = math.log(abs(psi_mid_old/psi_mid))/dt\n",
    "        mu_error = abs(mu-mu_old)/mu\n",
    "        #print(\"mu = {}, mu_error = {}\".format(mu, mu_error))\n",
    "        \n",
    "        #print(\"\\nPsi NaN before weird step\", np.where(np.isnan(psi)))\n",
    "        #print(\"Substituting any zeros\")\n",
    "        psi[np.where(psi == 0)[0]] = 1e-30\n",
    "        \n",
    "        #denum = np.sqrt(dx * np.power( psi / np.linalg.norm(psi, 2), 2))\n",
    "        #print(\"Denum == 0\", np.where(denum == 0))\n",
    "        print(\"Psi == 0\", np.where(psi == 0))\n",
    "        \n",
    "        \n",
    "        psi = psi*np.sqrt(N)/np.sqrt(dx * np.power( psi / np.linalg.norm(psi, 2), 2))\n",
    "        #print(\"Psi NaN after weird step\", np.where(np.isnan(psi)))\n",
    "        if j%5000 == 0:\n",
    "            print(\"MU_ERROR\")\n",
    "        if j > 1e8:\n",
    "            print(\"no solution found\")\n",
    "            return psi, mu\n",
    "        psi_mid_old = psi[Nx//2]\n",
    "        mu_old = mu\n",
    "        j += 1\n",
    "    print(j-1, \"iterations needed\")\n",
    "    return psi, mu  "
   ]
  },
  {
   "cell_type": "code",
   "execution_count": null,
   "metadata": {},
   "outputs": [],
   "source": [
    "# %matplotlib inline"
   ]
  },
  {
   "cell_type": "code",
   "execution_count": null,
   "metadata": {},
   "outputs": [],
   "source": [
    "psi_0 = np.sqrt(N/lx)*(1/np.pi)**(1/4)*np.exp(-np.power(x, 2)/(2*lx**2+1e-13))\n",
    "#psi_0 = psi_0 / np.linalg.norm(psi_0)\n",
    "plt.plot(psi_0)\n",
    "\n",
    "psi_0, mu = get_ground_state(psi_0, dt, g1d, x, k, m, V)\n",
    "plt.plot(np.abs(psi_0))\n",
    "plt.show()"
   ]
  },
  {
   "cell_type": "code",
   "execution_count": null,
   "metadata": {},
   "outputs": [],
   "source": [
    "psi_0 = np.exp(-np.power(x, 2)/(1e-9))\n",
    "print(len(np.where(psi_0 != 0)[0]))\n",
    "plt.plot(psi_0)\n",
    "plt.plot(fft.fft(psi_0))\n",
    "plt.show()"
   ]
  },
  {
   "cell_type": "code",
   "execution_count": null,
   "metadata": {},
   "outputs": [],
   "source": []
  },
  {
   "cell_type": "code",
   "execution_count": null,
   "metadata": {},
   "outputs": [],
   "source": []
  }
 ],
 "metadata": {
  "kernelspec": {
   "display_name": "Python 3",
   "language": "python",
   "name": "python3"
  },
  "language_info": {
   "codemirror_mode": {
    "name": "ipython",
    "version": 3
   },
   "file_extension": ".py",
   "mimetype": "text/x-python",
   "name": "python",
   "nbconvert_exporter": "python",
   "pygments_lexer": "ipython3",
   "version": "3.6.5"
  }
 },
 "nbformat": 4,
 "nbformat_minor": 2
}
