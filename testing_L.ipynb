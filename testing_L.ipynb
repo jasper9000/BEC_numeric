{
 "cells": [
  {
   "cell_type": "markdown",
   "metadata": {},
   "source": [
    "# In this notebook the function that calculates L was tested"
   ]
  },
  {
   "cell_type": "code",
   "execution_count": 1,
   "metadata": {},
   "outputs": [],
   "source": [
    "import numpy as np\n",
    "import os\n",
    "import pickle\n",
    "from numba import jit\n",
    "import math\n",
    "import cmath\n",
    "\n",
    "import matplotlib.pyplot as plt\n",
    "import matplotlib.animation as animation"
   ]
  },
  {
   "cell_type": "code",
   "execution_count": 2,
   "metadata": {},
   "outputs": [
    {
     "name": "stdout",
     "output_type": "stream",
     "text": [
      "Using matplotlib backend: Qt5Agg\n"
     ]
    }
   ],
   "source": [
    "%matplotlib"
   ]
  },
  {
   "cell_type": "code",
   "execution_count": 3,
   "metadata": {},
   "outputs": [],
   "source": [
    "def save_psi_array(array, filename):\n",
    "    pickle.dump(array, open(\"saved_simulations/\"+filename, \"wb\"))"
   ]
  },
  {
   "cell_type": "code",
   "execution_count": 4,
   "metadata": {},
   "outputs": [],
   "source": [
    "def display_psi_array(array, dynamic_colorbar=True):\n",
    "    fig = plt.figure()\n",
    "    shape = array[0].shape\n",
    "    data = np.random.rand(shape[0],shape[1])\n",
    "    vmin = np.min(array[0])\n",
    "    vmax = np.max(array[0])\n",
    "    im = plt.imshow(data, cmap=\"jet\", animated=True, vmin=vmin, vmax=vmax)\n",
    "    plt.colorbar()\n",
    "    def update(i):\n",
    "        im.set_data(array[i])\n",
    "        if dynamic_colorbar:\n",
    "            vmin = np.min(array[i])\n",
    "            vmax = np.max(array[i])\n",
    "            im.set_clim(vmin, vmax)\n",
    "        return im\n",
    "    anim = animation.FuncAnimation(fig, update, frames=len(array), interval=50)\n",
    "    plt.show()\n",
    "    return anim"
   ]
  },
  {
   "cell_type": "code",
   "execution_count": null,
   "metadata": {},
   "outputs": [],
   "source": []
  },
  {
   "cell_type": "code",
   "execution_count": 5,
   "metadata": {},
   "outputs": [],
   "source": [
    "def gauss(x, y, x0=0, y0=0):\n",
    "    return 1/np.sqrt(np.pi) * np.exp(-0.5*((x-x0)**2+(y-y0)**2))"
   ]
  },
  {
   "cell_type": "code",
   "execution_count": null,
   "metadata": {},
   "outputs": [],
   "source": []
  },
  {
   "cell_type": "code",
   "execution_count": 65,
   "metadata": {},
   "outputs": [],
   "source": [
    "N = 101\n",
    "a = -10\n",
    "b = 10\n",
    "x = np.linspace(a,b, N)\n",
    "y = x"
   ]
  },
  {
   "cell_type": "code",
   "execution_count": 92,
   "metadata": {},
   "outputs": [],
   "source": [
    "xx, yy = np.meshgrid(x, y)\n",
    "psi = gauss(xx, yy, 2, 4) + (0+0j)\n",
    "plt.imshow(np.abs(psi))\n",
    "plt.colorbar()\n",
    "plt.show()"
   ]
  },
  {
   "cell_type": "markdown",
   "metadata": {},
   "source": [
    "Step by step trying to understand how to speed up the calculation of L with numpy"
   ]
  },
  {
   "cell_type": "code",
   "execution_count": 102,
   "metadata": {},
   "outputs": [
    {
     "data": {
      "text/plain": [
       "1000.0"
      ]
     },
     "execution_count": 102,
     "metadata": {},
     "output_type": "execute_result"
    }
   ],
   "source": [
    "5/0.005"
   ]
  },
  {
   "cell_type": "code",
   "execution_count": 86,
   "metadata": {},
   "outputs": [],
   "source": [
    "@jit\n",
    "def L(psi, psi_hat, a, N):\n",
    "    psi_dx = np.ones((N,N)) + (0+0j)\n",
    "    psi_dy = np.ones((N,N)) + (0+0j)\n",
    "    psi_L = np.ones((N,N)) + (0+0j)\n",
    "    \n",
    "    for j in range(N):\n",
    "        for k in range(N):\n",
    "            s_dx = 0\n",
    "            s_dy = 0\n",
    "            for p in range(-N//2, N//2):\n",
    "                for q in range(-N//2, N//2):\n",
    "                    my_p = 2*p*math.pi/(2*a)\n",
    "                    lambda_q = 2*q*math.pi/(2*a)\n",
    "                    tmp = psi_hat[p, q] * cmath.exp(1j*2*j*p*np.pi/N) * cmath.exp(1j*2*k*q*np.pi/N)\n",
    "                    s_dx += my_p * tmp\n",
    "                    s_dy += lambda_q * tmp\n",
    "            #print('error?')\n",
    "            #print(my_p.shape)\n",
    "            #print(s_dx.shape)\n",
    "            psi_dx[j,k] = s_dx / (N**2)\n",
    "            psi_dy[j,k] = s_dy / (N**2)\n",
    "            #print(\"Error?\")\n",
    "    #bad! ... ?\n",
    "    dx = 2*a/N\n",
    "    x = np.arange(-a, a, dx)\n",
    "    y = np.arange(-a, a, dx)\n",
    "    xx, yy = np.meshgrid(x, y, sparse=False, indexing='xy')\n",
    "\n",
    "    psi_L = xx * psi_dy - yy * psi_dx\n",
    "    return psi_L\n"
   ]
  },
  {
   "cell_type": "code",
   "execution_count": 87,
   "metadata": {
    "scrolled": true
   },
   "outputs": [],
   "source": [
    "psi_hat = np.fft.fft2(psi)#/N**2\n",
    "l = L(psi, psi_hat, a, N)\n",
    "# plt.imshow(np.abs(l)**2)\n",
    "plt.imshow(np.abs(l))\n",
    "plt.colorbar()\n",
    "plt.show()"
   ]
  },
  {
   "cell_type": "code",
   "execution_count": null,
   "metadata": {},
   "outputs": [],
   "source": []
  },
  {
   "cell_type": "code",
   "execution_count": 93,
   "metadata": {},
   "outputs": [],
   "source": [
    "@jit\n",
    "def L_semi(psi, psi_hat, a, N):\n",
    "    psi_dx = np.ones((N,N)) + (0+0j)\n",
    "    psi_dy = np.ones((N,N)) + (0+0j)\n",
    "    psi_dx_hat = np.ones((N,N)) + (0+0j)\n",
    "    psi_dy_hat = np.ones((N,N)) + (0+0j)\n",
    "    psi_L = np.ones((N,N)) + (0+0j)\n",
    "    \n",
    "    for p in range(-N//2, N//2):\n",
    "        for q in range(-N//2, N//2): \n",
    "            my_p = 2*p*math.pi/(2*a)\n",
    "            lambda_q = 2*q*math.pi/(2*a)\n",
    "            psi_dx_hat[p,q] = psi_hat[p, q] * my_p\n",
    "            psi_dy_hat[p,q] = psi_hat[p, q] * lambda_q\n",
    "    \n",
    "    psi_dx = np.fft.ifft2(psi_dx_hat)# * N**2\n",
    "    psi_dy = np.fft.ifft2(psi_dy_hat) #* N**2\n",
    "    \n",
    "    #psi_dx = np.fft.fftshift(psi_dx)\n",
    "    #psi_dy = np.fft.fftshift(psi_dy)\n",
    "    \n",
    "    # combine the two\n",
    "    x = np.linspace(-a, a, N)\n",
    "    y = np.linspace(-a, a, N)\n",
    "    xx, yy = np.meshgrid(x, y, sparse=False, indexing='xy')\n",
    "\n",
    "    psi_L = xx * psi_dy - yy * psi_dx\n",
    "    return psi_L"
   ]
  },
  {
   "cell_type": "code",
   "execution_count": 94,
   "metadata": {},
   "outputs": [],
   "source": [
    "psi_hat = np.fft.fft2(psi)#/N**2\n",
    "#psi_hat = psi_hat.real\n",
    "\n",
    "l = L_semi(psi, psi_hat, a, N)\n",
    "plt.imshow(np.abs(l))\n",
    "plt.colorbar()\n",
    "plt.show()"
   ]
  },
  {
   "cell_type": "code",
   "execution_count": null,
   "metadata": {},
   "outputs": [],
   "source": []
  },
  {
   "cell_type": "code",
   "execution_count": 95,
   "metadata": {},
   "outputs": [],
   "source": [
    "@jit\n",
    "def L_fast(psi, psi_hat, a, N):\n",
    "    psi_dx = np.ones((N,N)) + (0+0j)\n",
    "    psi_dy = np.ones((N,N)) + (0+0j)\n",
    "    psi_dx_hat = np.ones((N,N)) + (0+0j)\n",
    "    psi_dy_hat = np.ones((N,N)) + (0+0j)\n",
    "    psi_L = np.ones((N,N)) + (0+0j)\n",
    "    \n",
    "    p = np.arange(-N//2, N//2)\n",
    "    q = np.arange(-N//2, N//2)\n",
    "    \n",
    "    pp, qq = np.meshgrid(p, q, sparse=False, indexing=\"ij\")\n",
    "    \n",
    "    my_p = 2*pp*math.pi/(2*a)\n",
    "    lambda_q = 2*qq*math.pi/(2*a)\n",
    "    \n",
    "    my_p = np.fft.fftshift(my_p)\n",
    "    lambda_q = np.fft.fftshift(lambda_q)\n",
    "    \n",
    "    psi_dx_hat = psi_hat * my_p\n",
    "    psi_dy_hat = psi_hat * lambda_q\n",
    "    \n",
    "    \n",
    "    psi_dx = np.fft.ifft2(psi_dx_hat)# * N**2\n",
    "    psi_dy = np.fft.ifft2(psi_dy_hat) #* N**2\n",
    "    \n",
    "\n",
    "    dx = 2*a/N\n",
    "    x = np.arange(-a, a, dx)\n",
    "    y = np.arange(-a, a, dx)\n",
    "    xx, yy = np.meshgrid(x, y, sparse=False, indexing='xy')\n",
    "\n",
    "    psi_L = xx * psi_dy - yy * psi_dx\n",
    "    return psi_L"
   ]
  },
  {
   "cell_type": "code",
   "execution_count": 96,
   "metadata": {
    "scrolled": false
   },
   "outputs": [],
   "source": [
    "psi_hat = np.fft.fft2(psi)#/N**2\n",
    "l = L_fast(psi, psi_hat, a, N)\n",
    "# plt.imshow(np.abs(l)**2)\n",
    "plt.imshow(np.abs(l))\n",
    "plt.colorbar()\n",
    "plt.show()"
   ]
  },
  {
   "cell_type": "code",
   "execution_count": null,
   "metadata": {},
   "outputs": [],
   "source": []
  }
 ],
 "metadata": {
  "kernelspec": {
   "display_name": "Python 3",
   "language": "python",
   "name": "python3"
  },
  "language_info": {
   "codemirror_mode": {
    "name": "ipython",
    "version": 3
   },
   "file_extension": ".py",
   "mimetype": "text/x-python",
   "name": "python",
   "nbconvert_exporter": "python",
   "pygments_lexer": "ipython3",
   "version": "3.6.7"
  }
 },
 "nbformat": 4,
 "nbformat_minor": 2
}
