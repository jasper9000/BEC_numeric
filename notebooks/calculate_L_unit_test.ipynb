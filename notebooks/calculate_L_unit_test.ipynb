{
 "cells": [
  {
   "cell_type": "markdown",
   "metadata": {},
   "source": [
    "# In this notebook the function is calculates L was tested and incrementally sped up with numpy"
   ]
  },
  {
   "cell_type": "code",
   "execution_count": 2,
   "metadata": {},
   "outputs": [],
   "source": [
    "import numpy as np\n",
    "import os\n",
    "import pickle\n",
    "from numba import jit\n",
    "import math\n",
    "import cmath\n",
    "\n",
    "import matplotlib.pyplot as plt\n",
    "import matplotlib.animation as animation"
   ]
  },
  {
   "cell_type": "code",
   "execution_count": 3,
   "metadata": {},
   "outputs": [
    {
     "name": "stdout",
     "output_type": "stream",
     "text": [
      "Using matplotlib backend: Qt5Agg\n"
     ]
    }
   ],
   "source": [
    "%matplotlib"
   ]
  },
  {
   "cell_type": "markdown",
   "metadata": {},
   "source": [
    "Initializing a test function, a Gaussian in this case."
   ]
  },
  {
   "cell_type": "code",
   "execution_count": 4,
   "metadata": {},
   "outputs": [],
   "source": [
    "def gauss(x, y, x0=0, y0=0):\n",
    "    return 1/np.sqrt(np.pi) * np.exp(-0.5*((x-x0)**2+(y-y0)**2))"
   ]
  },
  {
   "cell_type": "code",
   "execution_count": 5,
   "metadata": {},
   "outputs": [],
   "source": [
    "X = 101\n",
    "Y = 101\n",
    "a = 10\n",
    "x = np.linspace(-a,a, X)\n",
    "y = np.linspace(-a,a, Y)"
   ]
  },
  {
   "cell_type": "code",
   "execution_count": 6,
   "metadata": {},
   "outputs": [],
   "source": [
    "xx, yy = np.meshgrid(x, y, indexing='ij')\n",
    "psi = gauss(xx, yy) + (0+0j)\n",
    "plt.imshow(np.abs(psi))\n",
    "plt.colorbar()\n",
    "plt.show()"
   ]
  },
  {
   "cell_type": "markdown",
   "metadata": {},
   "source": [
    "### Step by step trying to understand how to speed up the calculation of L with numpy"
   ]
  },
  {
   "cell_type": "markdown",
   "metadata": {},
   "source": [
    "Mark I: A very literal copy of the math presented in the paper"
   ]
  },
  {
   "cell_type": "code",
   "execution_count": 7,
   "metadata": {},
   "outputs": [],
   "source": [
    "@jit\n",
    "def L_MK1(psi, psi_hat, a, X, Y):\n",
    "    psi_dx = np.ones((X,Y)) + (0+0j)\n",
    "    psi_dy = np.ones((X,Y)) + (0+0j)\n",
    "    psi_L = np.ones((X,Y)) + (0+0j)\n",
    "    \n",
    "    for j in range(X):\n",
    "        for k in range(Y):\n",
    "            s_dx = 0\n",
    "            s_dy = 0\n",
    "            for p in range(-X//2, X//2):\n",
    "                for q in range(-Y//2, Y//2):\n",
    "                    my_p = 2*p*math.pi/(2*a)\n",
    "                    lambda_q = 2*q*math.pi/(2*a)\n",
    "                    tmp = psi_hat[p, q] * cmath.exp(1j*2*j*p*np.pi/X) * cmath.exp(1j*2*k*q*np.pi/Y)\n",
    "                    s_dx += my_p * tmp\n",
    "                    s_dy += lambda_q * tmp\n",
    "            psi_dx[j,k] = s_dx / (X**2)\n",
    "            psi_dy[j,k] = s_dy / (Y**2)\n",
    "    \n",
    "    dx = 2*a/X\n",
    "    dy = 2*a/Y\n",
    "    x = np.arange(-a, a, dx)\n",
    "    y = np.arange(-a, a, dy)\n",
    "    \n",
    "    for j in range(X):\n",
    "        for k in range(Y):\n",
    "            psi_L[j,k] = x[j]*psi_dy[j,k] - y[k]*psi_dx[j,k]\n",
    "    return psi_L\n",
    "\n",
    "psi_hat = np.fft.fft2(psi)#/N**2\n",
    "l = L_MK1(psi, psi_hat, a, X, Y)\n",
    "plt.imshow(np.abs(l))\n",
    "plt.colorbar()\n",
    "plt.show()"
   ]
  },
  {
   "cell_type": "markdown",
   "metadata": {},
   "source": [
    "Mark II: replacing the last double for loop by numpy magic"
   ]
  },
  {
   "cell_type": "code",
   "execution_count": 8,
   "metadata": {},
   "outputs": [],
   "source": [
    "@jit\n",
    "def L_MK2(psi, psi_hat, a, X, Y):\n",
    "    psi_dx = np.ones((X,Y)) + (0+0j)\n",
    "    psi_dy = np.ones((X,Y)) + (0+0j)\n",
    "    psi_L = np.ones((X,Y)) + (0+0j)\n",
    "    \n",
    "    for j in range(X):\n",
    "        for k in range(Y):\n",
    "            s_dx = 0\n",
    "            s_dy = 0\n",
    "            for p in range(-X//2, X//2):\n",
    "                for q in range(-Y//2, Y//2):\n",
    "                    my_p = 2*p*math.pi/(2*a)\n",
    "                    lambda_q = 2*q*math.pi/(2*a)\n",
    "                    tmp = psi_hat[p, q] * cmath.exp(1j*2*j*p*np.pi/X) * cmath.exp(1j*2*k*q*np.pi/Y)\n",
    "                    s_dx += my_p * tmp\n",
    "                    s_dy += lambda_q * tmp\n",
    "            psi_dx[j,k] = s_dx / (X**2)\n",
    "            psi_dy[j,k] = s_dy / (Y**2)\n",
    "    \n",
    "    dx = 2*a/X\n",
    "    dy = 2*a/Y\n",
    "    x = np.arange(-a, a, dx)\n",
    "    y = np.arange(-a, a, dy)\n",
    "    \n",
    "    xx, yy = np.meshgrid(x, y, sparse=False, indexing='ij')\n",
    "    psi_L = xx * psi_dy - yy * psi_dx\n",
    "    return psi_L\n",
    "\n",
    "psi_hat = np.fft.fft2(psi)#/N**2\n",
    "l = L_MK2(psi, psi_hat, a, X, Y)\n",
    "plt.imshow(np.abs(l))\n",
    "plt.colorbar()\n",
    "plt.show()"
   ]
  },
  {
   "cell_type": "markdown",
   "metadata": {},
   "source": [
    "Mark III: Replacing the direct fourier transform by the fast fourier transform"
   ]
  },
  {
   "cell_type": "code",
   "execution_count": 9,
   "metadata": {},
   "outputs": [],
   "source": [
    "@jit\n",
    "def L_MK3(psi, psi_hat, a, X, Y):\n",
    "    psi_dx = np.ones((X,Y)) + (0+0j)\n",
    "    psi_dy = np.ones((X,Y)) + (0+0j)\n",
    "    psi_dx_hat = np.ones((X,Y)) + (0+0j)\n",
    "    psi_dy_hat = np.ones((X,Y)) + (0+0j)\n",
    "    psi_L = np.ones((X,Y)) + (0+0j)\n",
    "    \n",
    "    \n",
    "    for p in range(-X//2, X//2):\n",
    "        for q in range(-Y//2, Y//2):\n",
    "            my_p = 2*p*math.pi/(2*a)\n",
    "            lambda_q = 2*q*math.pi/(2*a)\n",
    "            psi_dx_hat[p,q] = psi_hat[p, q] * my_p\n",
    "            psi_dy_hat[p,q] = psi_hat[p, q] * lambda_q\n",
    "    \n",
    "    psi_dx = np.fft.ifft2(psi_dx_hat)\n",
    "    psi_dy = np.fft.ifft2(psi_dy_hat)\n",
    "    \n",
    "    #psi_dx = np.fft.fftshift(psi_dx)\n",
    "    #psi_dy = np.fft.fftshift(psi_dy)\n",
    "\n",
    "    dx = 2*a/X\n",
    "    dy = 2*a/Y\n",
    "    x = np.arange(-a, a, dx)\n",
    "    y = np.arange(-a, a, dy)\n",
    "    \n",
    "    xx, yy = np.meshgrid(x, y, sparse=False, indexing='ij')\n",
    "    psi_L = xx * psi_dy - yy * psi_dx\n",
    "    return psi_L\n",
    "\n",
    "psi_hat = np.fft.fft2(psi)#/N**2\n",
    "l = L_MK3(psi, psi_hat, a, X, Y)\n",
    "plt.imshow(np.abs(l))\n",
    "plt.colorbar()\n",
    "plt.show()"
   ]
  },
  {
   "cell_type": "markdown",
   "metadata": {},
   "source": [
    "Mark IV: Replacing the remaining for loops by numpy magic"
   ]
  },
  {
   "cell_type": "code",
   "execution_count": 10,
   "metadata": {},
   "outputs": [],
   "source": [
    "@jit\n",
    "def L_MK4(psi, psi_hat, a, X, Y):\n",
    "    psi_dx = np.ones((X,Y)) + (0+0j)\n",
    "    psi_dy = np.ones((X,Y)) + (0+0j)\n",
    "    psi_dx_hat = np.ones((X,Y)) + (0+0j)\n",
    "    psi_dy_hat = np.ones((X,Y)) + (0+0j)\n",
    "    psi_L = np.ones((X,Y)) + (0+0j)\n",
    "    \n",
    "    p = np.arange(-X//2, X//2)\n",
    "    q = np.arange(-Y//2, Y//2)\n",
    "    \n",
    "    pp, qq = np.meshgrid(p, q, sparse=False, indexing=\"ij\")\n",
    "    \n",
    "    my_p = 2*pp*math.pi/(2*a)\n",
    "    lambda_q = 2*qq*math.pi/(2*a)\n",
    "    \n",
    "    my_p = np.fft.fftshift(my_p)\n",
    "    lambda_q = np.fft.fftshift(lambda_q)\n",
    "    \n",
    "    psi_dx_hat = psi_hat * my_p\n",
    "    psi_dy_hat = psi_hat * lambda_q\n",
    "    \n",
    "    \n",
    "    psi_dx = np.fft.ifft2(psi_dx_hat)\n",
    "    psi_dy = np.fft.ifft2(psi_dy_hat)\n",
    "    \n",
    "\n",
    "    dx = 2*a/X\n",
    "    dy = 2*a/Y\n",
    "    x = np.arange(-a, a, dx)\n",
    "    y = np.arange(-a, a, dy)\n",
    "    \n",
    "    xx, yy = np.meshgrid(x, y, sparse=False, indexing='ij')\n",
    "    psi_L = xx * psi_dy - yy * psi_dx\n",
    "    return psi_L\n",
    "\n",
    "psi_hat = np.fft.fft2(psi)#/N**2\n",
    "l = L_MK4(psi, psi_hat, a, X, Y)\n",
    "plt.imshow(np.abs(l))\n",
    "plt.colorbar()\n",
    "plt.show()"
   ]
  },
  {
   "cell_type": "markdown",
   "metadata": {},
   "source": [
    "Result: Each one of these functions prduces the same output. Assuming the literal copy of the math provided by the paper is correct, the fast numpy versions of the functions should be correct too!"
   ]
  }
 ],
 "metadata": {
  "kernelspec": {
   "display_name": "Python 3",
   "language": "python",
   "name": "python3"
  },
  "language_info": {
   "codemirror_mode": {
    "name": "ipython",
    "version": 3
   },
   "file_extension": ".py",
   "mimetype": "text/x-python",
   "name": "python",
   "nbconvert_exporter": "python",
   "pygments_lexer": "ipython3",
   "version": "3.6.7"
  }
 },
 "nbformat": 4,
 "nbformat_minor": 2
}
